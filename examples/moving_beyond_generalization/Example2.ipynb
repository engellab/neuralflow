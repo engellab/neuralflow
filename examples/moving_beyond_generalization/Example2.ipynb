{
 "cells": [
  {
   "cell_type": "markdown",
   "metadata": {},
   "source": [
    "# Example 2\n",
    "\n",
    "This is an example that reproduces Figure 5 from Genkin, M., Engel, T.A., Nat Mach Intell 2, 674–683 (2020). Here we apply the proposed model selection method based on features consistency on synthetic data generated from the double-well potential. This example uses an optinal neuralflow module neuralflow.utilities.FC_stationary, which provides the utility functions for stationary feature consistency model selection."
   ]
  },
  {
   "cell_type": "code",
   "execution_count": 1,
   "metadata": {},
   "outputs": [],
   "source": [
    "import neuralflow\n",
    "from neuralflow.utilities.FC_stationary import FeatureConsistencyAnalysis_st, FeatureComplexity_st\n",
    "import numpy as np\n",
    "import matplotlib.pyplot as plt, matplotlib.gridspec as gridspec"
   ]
  },
  {
   "cell_type": "markdown",
   "metadata": {},
   "source": [
    "## Step 1: Load data and calculate Feature complexities (FC)\n",
    "\n",
    "In this example, data will be loaded from `npz` files. To generate these files, we used the same double-well ground-truth model as in Example 1 (also see FIG. 3,4,5 in the main text). We trained and validated the model on two data samples `D1` and `D2`. Each data sample contains ~20,000 spikes, and the data was split into two equal non-overlapping parts (`D1=D11+D12`, `D2=D21+D22`), where the first part was used for training and the second - for validation. \n",
    "\n",
    "Fitting results were saved in two data files (one for each data sample). Each data file contains the following entries: \n",
    "\n",
    "`iter_num`: array of intergers, iteration numbers on which `peqs` were recorded, \n",
    "\n",
    "`peqs`: 2D array of fitted peqs (only recorded at iterations specified by `iter_num` array), \n",
    "\n",
    "`logliks`: negative training loglikelihoods recorded on each iteration, \n",
    "\n",
    "`logliksCV`: negative validated loglikelihoods recorded on each iteration. \n",
    "\n",
    "For each data sample, we trained a model for 50,000 iterations. These data files can be straight-forwardly generated using by extending the code from Example 1. Here we include the precalculated fitting results since fitting 50,000 iterations may take a long time. This data is the same data as was used in FIG. 3,4,5, but fitting results (peqs) are saved sparsely to keep the data files small. Thus, the generated figures may slightly differ from FIG. 5 in the main text.\n",
    "\n",
    "1) Specify the ground-truth model. Extract spectral element method (SEM) integration weights and differentiation matrix.\n",
    "\n",
    "2) Load data files with the fitting results and convert them to the dictionaries.\n",
    "\n",
    "3) For each fitted peq and the ground-truth peq, caclulate the corresponding feature complexities. "
   ]
  },
  {
   "cell_type": "code",
   "execution_count": 2,
   "metadata": {},
   "outputs": [],
   "source": [
    "EnergyModelParams = {'pde_solve_param':{'method':{'name': 'SEM', 'gridsize': {'Np': 8, 'Ne': 256}}}, \n",
    "               'Nv': 64, \n",
    "               'peq_model':{\"model\": \"double_well\", \"params\": {\"xmin\": 0.6, \"xmax\": 0.0, \"depth\": 2}},\n",
    "               'D0': 10, \n",
    "               'num_neuron':1,\n",
    "               'firing_model':[{\"model\": \"rectified_linear\", \"params\": {\"r_slope\": 100, \"x_thresh\": -1}}],\n",
    "               'verbose':True\n",
    "               }\n",
    "\n",
    "em_gt = neuralflow.EnergyModel(**EnergyModelParams)\n",
    "grid_params = {'w':em_gt.w_d_, 'dmat':em_gt.dmat_d_}\n",
    "\n",
    "data1 = dict(np.load('data/Ex2_datasample1.npz',allow_pickle=True))\n",
    "data2 = dict(np.load('data/Ex2_datasample2.npz',allow_pickle=True))\n",
    "\n",
    "data1['FCs'] = FeatureComplexity_st(data1['peqs'],grid_params)\n",
    "data2['FCs'] = FeatureComplexity_st(data2['peqs'],grid_params)\n",
    "FC_gt = FeatureComplexity_st(em_gt.peq_,grid_params)"
   ]
  },
  {
   "cell_type": "markdown",
   "metadata": {},
   "source": [
    "## Step 2: Define the hyperparameters for feature consistency analysis\n",
    "\n",
    "Here we define the following hyperparameters of our feature consistency method: \n",
    "\n",
    "`KL_thres`: Threshold Kullback-Leibler divergence that defines a point when two models start to diverge (see Methods).\n",
    "\n",
    "`FC_radius`: Feature complexity radius that determines a slack in features complexities: instead of comparing models with exactly the same feature complexities, we allow some slack in the feature complexities of the two models. (see Methods).\n",
    "\n",
    "In addtion, we define the following hyperparameters:\n",
    "\n",
    "`KL_thres_late`: Same as `KL_thres`, but with a higher value. This threshold will be used to demonstrate that high KL thresholds lead to disagreement in the selected potentials. \n",
    "\n",
    "`FC_final`: maximum feature complexity explored by the feature consistency analysis.\n",
    "\n",
    "`FC_stride`: FC resolution for the feature complexity axis."
   ]
  },
  {
   "cell_type": "code",
   "execution_count": 3,
   "metadata": {},
   "outputs": [],
   "source": [
    "KL_thres=0.01\n",
    "FC_radius = 1\n",
    "\n",
    "KL_thres_late=0.03\n",
    "FC_final = 25\n",
    "FC_stride = 0.1\n",
    "\n",
    "FC_options= [KL_thres, FC_radius,  FC_final, FC_stride]"
   ]
  },
  {
   "cell_type": "markdown",
   "metadata": {},
   "source": [
    "## Step 3: Perform feature consistency analysis\n",
    "\n",
    "1) For the analysis, use `FeatureConsistencyAnalysis` function that returns shared FC axis, KL divergencies, the index of optimal FC in `FC_shared`, and the indices of `peqs` and `FCs` in the original data arrays that correspond to each FC in the `FC_shared` array. \n",
    "\n",
    "2) Determine optimal FC (`FC_opt`), as well as early and late FCs. The late feature complexity is found by thresholding the KL with `KL_thres_late`. The early FC is defined as `FC_opt-4`."
   ]
  },
  {
   "cell_type": "code",
   "execution_count": 4,
   "metadata": {},
   "outputs": [],
   "source": [
    "FC_shared, KL, FC_opt_ind, ind1_shared, ind2_shared = FeatureConsistencyAnalysis_st(data1,data2, grid_params, *FC_options)\n",
    "FC_opt = FC_shared [FC_opt_ind]\n",
    "\n",
    "FC_late_ind = np.where(KL > KL_thres_late)[0][0]-1\n",
    "FC_late = FC_shared[FC_late_ind]\n",
    "\n",
    "FC_early_ind = np.where(FC_shared>FC_opt-4)[0][0]\n",
    "FC_early = FC_shared[FC_early_ind]"
   ]
  },
  {
   "cell_type": "markdown",
   "metadata": {},
   "source": [
    "## Step 4: Visualise the results"
   ]
  },
  {
   "cell_type": "code",
   "execution_count": 5,
   "metadata": {},
   "outputs": [],
   "source": [
    "fig=plt.figure(figsize=(20,7))\n",
    "gs=gridspec.GridSpec(2,3,height_ratios=[3,2],hspace=0.5)\n",
    "line_colors = [[0, 127/255, 1], [239/255, 48/255, 84/255], [0.5, 0.5, 0.5]]\n",
    "dot_colors = [[0.6,0.6,0.6], [1, 169/255, 135/255],  [147/255, 192/255, 164/255]]\n",
    "\n",
    "ax = plt.subplot(gs[0])\n",
    "ax.plot(data1['iter_num'],data1['FCs'],color=line_colors[0],linewidth=3,label='Data sample 1')\n",
    "ax.plot(data2['iter_num'],data2['FCs'],color=line_colors[1],linewidth=3,label='Data sample 2')\n",
    "ax.hlines(FC_gt,data1['iter_num'][0],data1['iter_num'][-1],color=line_colors[2],linewidth=2,label='Ground truth')\n",
    "plt.xscale('log')\n",
    "plt.xlabel('iteration number')\n",
    "plt.ylabel('Feature complexity')\n",
    "\n",
    "ax=plt.subplot(gs[1])\n",
    "llCV=data1['logliksCV'][data1['iter_num']]\n",
    "llCV = (llCV-llCV[0])/(np.max(llCV)-np.min(llCV))\n",
    "ax.plot(data1['FCs'], llCV,color=line_colors[0],linewidth=3)\n",
    "llCV=data2['logliksCV'][data2['iter_num']]\n",
    "llCV = (llCV-llCV[0])/(np.max(llCV)-np.min(llCV))\n",
    "ax.plot(data2['FCs'], llCV,color=line_colors[1],linewidth=3)\n",
    "ax.plot(FC_early,llCV[np.argmin(np.abs(data2['FCs']-FC_early))],'.',markersize=20,color=dot_colors[0])\n",
    "ax.plot(FC_opt,llCV[np.argmin(np.abs(data2['FCs']-FC_opt))],'.',markersize=20,color=dot_colors[1])\n",
    "ax.plot(FC_late,llCV[np.argmin(np.abs(data2['FCs']-FC_late))],'.',markersize=20,color=dot_colors[2])\n",
    "plt.xlabel('Feature complexity')\n",
    "plt.ylabel(r'$-\\log\\mathcal{L}$', fontsize=18)\n",
    "\n",
    "\n",
    "ax=plt.subplot(gs[2])\n",
    "ax.plot(FC_shared,KL, color = [0.47, 0.34, 0.66],linewidth=3)\n",
    "ax.plot(FC_early,KL[np.argmin(np.abs(FC_shared-FC_early))],'.',markersize=20,color=dot_colors[0])\n",
    "ax.plot(FC_opt,KL[np.argmin(np.abs(FC_shared-FC_opt))],'.',markersize=20,color=dot_colors[1])\n",
    "ax.plot(FC_late,KL[np.argmin(np.abs(FC_shared-FC_late))],'.',markersize=20,color=dot_colors[2])\n",
    "plt.xlabel('Feature complexity')\n",
    "plt.ylabel('KL divergence')\n",
    "\n",
    "\n",
    "ax=plt.subplot(gs[3])\n",
    "ax.plot(em_gt.x_d_,np.minimum(-np.log(data1['peqs'][...,ind1_shared[FC_early_ind]]),6),color=line_colors[0],linewidth=3)\n",
    "ax.plot(em_gt.x_d_,np.minimum(-np.log(data2['peqs'][...,ind2_shared[FC_early_ind]]),6),color=line_colors[1],linewidth=3)\n",
    "ax.plot(em_gt.x_d_,np.minimum(-np.log(em_gt.peq_),6),color=[0.5, 0.5, 0.5],linewidth=2)\n",
    "plt.xlabel('latent state, x')\n",
    "plt.ylabel(r'$-\\log\\mathcal{L}$', fontsize=18)\n",
    "\n",
    "\n",
    "ax=plt.subplot(gs[4])\n",
    "ax.plot(em_gt.x_d_,np.minimum(-np.log(data1['peqs'][...,ind1_shared[FC_opt_ind]]),6),color=line_colors[0],linewidth=3)\n",
    "ax.plot(em_gt.x_d_,np.minimum(-np.log(data2['peqs'][...,ind2_shared[FC_opt_ind]]),6),color=line_colors[1],linewidth=3)\n",
    "ax.plot(em_gt.x_d_,np.minimum(-np.log(em_gt.peq_),6),color=[0.5, 0.5, 0.5],linewidth=2)\n",
    "plt.xlabel('latent state, x')\n",
    "plt.ylabel(r'$-\\log\\mathcal{L}$', fontsize=18)\n",
    "\n",
    "ax=plt.subplot(gs[5])\n",
    "ax.plot(em_gt.x_d_,np.minimum(-np.log(data1['peqs'][...,ind1_shared[FC_late_ind]]),6),color=line_colors[0],linewidth=3)\n",
    "ax.plot(em_gt.x_d_,np.minimum(-np.log(data2['peqs'][...,ind2_shared[FC_late_ind]]),6),color=line_colors[1],linewidth=3)\n",
    "ax.plot(em_gt.x_d_,np.minimum(-np.log(em_gt.peq_),6),color=[0.5, 0.5, 0.5],linewidth=2)\n",
    "plt.xlabel('latent state, x')\n",
    "plt.ylabel(r'$-\\log\\mathcal{L}$', fontsize=18)"
   ]
  },
  {
   "cell_type": "markdown",
   "metadata": {},
   "source": [
    "The code above should produce the following image:\n",
    "![Jupyter notebook icon](images/Example2.png)"
   ]
  }
 ],
 "metadata": {
  "kernelspec": {
   "display_name": "Python 3 (ipykernel)",
   "language": "python",
   "name": "python3"
  },
  "language_info": {
   "codemirror_mode": {
    "name": "ipython",
    "version": 3
   },
   "file_extension": ".py",
   "mimetype": "text/x-python",
   "name": "python",
   "nbconvert_exporter": "python",
   "pygments_lexer": "ipython3",
   "version": "3.8.8"
  }
 },
 "nbformat": 4,
 "nbformat_minor": 4
}
