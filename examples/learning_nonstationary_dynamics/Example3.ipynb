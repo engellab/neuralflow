{
 "cells": [
  {
   "cell_type": "markdown",
   "id": "6e336cf8",
   "metadata": {},
   "source": [
    "# Example 3\n",
    "\n",
    "This is an example that reproduces Figure 5a-c from the main text. We load two sequences of models optimized on two independent data samples generated from the same ramping model. We then calculate feature complexity for these models and perform feature consistency analysis to select the optimal model. The analysis is performed for non-stationary data."
   ]
  },
  {
   "cell_type": "code",
   "execution_count": 1,
   "id": "eb6f6742",
   "metadata": {},
   "outputs": [],
   "source": [
    "import neuralflow\n",
    "from neuralflow.utilities.FC_nonstationary import JS_divergence_tdp, FeatureComplexities, FeatureComplexity\n",
    "import numpy as np\n",
    "import matplotlib.pyplot as plt, matplotlib.gridspec as gridspec"
   ]
  },
  {
   "cell_type": "markdown",
   "id": "f59081b9",
   "metadata": {},
   "source": [
    "## Step 1: Load data and calculate Feature complexities (FC)\n",
    "\n",
    "In this example, data will be loaded from `npz` files. To obtain this files, we generated 400 trials of data from the ramping dynamics with the following parameters: `'peq_model':{\"model\": \"linear_pot\", \"params\": {\"slope\": -5}}`, `'p0_model': {'model': 'single_well', 'params': {'miu': 200, 'xmin': -0.3}}`, `D0 : 0.1`. We then split our data into two independent halves, $D=D_1+D_2$, where $D_1$ contains the first 200, and $D_2$ contains the second 200 trials. We fit two models on each of the dataset by performing 10000 gradient-descent iterations. Here we only fit the potential function, and fix the rest of the parameters (performing 10000 iteration can take ~5-10 hours, thus in this example we offer you to load the optimization results).\n",
    "\n",
    "\n",
    "Fitting results were saved in two data files (one for each optimization). Each data file contains the following entries: \n",
    "\n",
    "`iter_num`: array of integers, iteration numbers on which `peqs` were recorded, \n",
    "\n",
    "`peqs`: 2D array of fitted peqs (only recorded at iterations specified by `iter_num` array), \n",
    "\n",
    "`logliks`: negative training loglikelihoods recorded on each iteration, \n",
    "\n",
    "`logliksCV`: negative validated loglikelihoods recorded on each iteration (we don't use it in this example). \n",
    "\n",
    "\n",
    "1) Initialize an instance of EnergyModel class. This is needed for feature complexities calculation.\n",
    "\n",
    "2) Load data files with the fitting results and convert them into dictionaries.\n",
    "\n",
    "3) To reduce the computation time, only calculate feature complexity on a selected subset of iterations (a selected subset of models obtained with GD). Calculate feature complexities, eigenvalues, and eigenvectors for the selected models."
   ]
  },
  {
   "cell_type": "code",
   "execution_count": 1,
   "id": "3b45c844",
   "metadata": {},
   "outputs": [
    {
     "ename": "SyntaxError",
     "evalue": "invalid syntax (1492902737.py, line 18)",
     "output_type": "error",
     "traceback": [
      "\u001b[0;36m  File \u001b[0;32m\"/var/folders/xt/nql8j4c959l6b4s54h4l91340000gn/T/ipykernel_59170/1492902737.py\"\u001b[0;36m, line \u001b[0;32m18\u001b[0m\n\u001b[0;31m    peq_gt = neuralflow.peq_models.linear_pot(em_fitting.x_d_,em_fitting.w_d_,=2.65)\u001b[0m\n\u001b[0m                                                                              ^\u001b[0m\n\u001b[0;31mSyntaxError\u001b[0m\u001b[0;31m:\u001b[0m invalid syntax\n"
     ]
    }
   ],
   "source": [
    "EnergyModelParams = {'pde_solve_param':{'method':{'name': 'SEM', 'gridsize': {'Np': 8, 'Ne': 16}}}, \n",
    "               'Nv': 111, \n",
    "               'peq_model':{'model': 'uniform', 'params': {}},\n",
    "               'p0_model': {'model': 'single_well', 'params': {'miu': 200, 'xmin': -0.3}},\n",
    "               'D0': 0.1,\n",
    "               'boundary_mode':'absorbing',\n",
    "               'num_neuron':1,\n",
    "               'firing_model':[{'model': 'linear','params': {'r_slope': 50, 'r_bias': 60}}],\n",
    "               'verbose':True\n",
    "               }\n",
    "\n",
    "#An instance of EnergyModel class that will be used for FC analysis.\n",
    "em_fitting = neuralflow.EnergyModel(**EnergyModelParams)\n",
    "\n",
    "#Load data\n",
    "data1 = dict(np.load('data/Ex3_datasample1.npz',allow_pickle=True))\n",
    "data2 = dict(np.load('data/Ex3_datasample2.npz',allow_pickle=True))\n",
    "\n",
    "#Only consider the models on selected iterations (arranged on a logspace between 0 and 10,000).\n",
    "number_of_models = 100\n",
    "iterations_selected=np.unique(np.concatenate((np.array([0]),np.logspace(0,4,number_of_models))).astype(int))\n",
    "iteration_indeces = np.argmin(np.abs(np.subtract.outer(data1['iter_num'],iterations_selected)),axis=0)\n",
    "\n",
    "#For each model calculate feature complexity, and the eigenvalues and eigenvectors of the operator H0\n",
    "FCs_array1, lQ_array1, Qx_array1=FeatureComplexities(data1,em_fitting,iteration_indeces)\n",
    "FCs_array2, lQ_array2, Qx_array2=FeatureComplexities(data2,em_fitting,iteration_indeces)"
   ]
  },
  {
   "cell_type": "markdown",
   "id": "4affe708",
   "metadata": {},
   "source": [
    "## Step 2: Calculate JSD for each level of Feature complexity\n",
    "\n",
    "Here we follow the algorithm described in Methods of Genkin, Hughes, Engel, Nat. Comm. 2021. For each model in `FCs_array1`, we consider $2*\\rm{FC_{stride}}+1$ models in `FCs_array2` with similar feature complexities. We calculate JS divergences between the first model and all of the considered models from `FCs_array2`, and select a minimal value. We repeat this for each model in `FCs_array1`. We also save the indices of the optimal models for each level of feature complexity (min_inds1 and min_inds2 that allows us to find the pair of models in data1/data2 arrays for each level of the feature complexity)."
   ]
  },
  {
   "cell_type": "code",
   "execution_count": 3,
   "id": "9cffa1ee",
   "metadata": {},
   "outputs": [],
   "source": [
    "FC_stride = 5\n",
    "\n",
    "# Preallocate the arrays\n",
    "JS = np.zeros(FCs_array1.size)\n",
    "min_inds1=np.zeros_like(JS)\n",
    "min_inds2=np.zeros_like(JS)\n",
    "\n",
    "for i in range(FCs_array1.size):\n",
    "    # We only consider 1 model from the sequence of models optimized on data sample 1.\n",
    "    FC1_ind = np.array([i])\n",
    "    # Find the index of model in the second sequence that have FC similar to model 1.\n",
    "    ind2 = np.argmin(np.abs(FCs_array1[i]-FCs_array2))\n",
    "    # We consider 2*FC_stride-1 models from the second sequence of models with similar FC by selecting\n",
    "    # the models around the index ind2 (and making sure our index is in the valid range).\n",
    "    FC2_ind = np.array(np.arange(max(0,ind2-FC_stride),min(FCs_array2.size-1,ind2+1+FC_stride)))    \n",
    "    #Compute JSD for each pair of models selected from the sequences 1 and 2.\n",
    "    JS_cur = np.zeros((FC1_ind.size,FC2_ind.size))\n",
    "    for i1,ind1 in enumerate(FC1_ind):\n",
    "        for i2, ind2 in enumerate(FC2_ind):\n",
    "            peq_ind1=iteration_indeces[ind1]\n",
    "            peq_ind2=iteration_indeces[ind2]\n",
    "            JS_cur[i1,i2]=JS_divergence_tdp(data1['peqs'][...,peq_ind1],em_fitting.D_,em_fitting.p0_,\n",
    "                                            data2['peqs'][...,peq_ind2],em_fitting.D_,em_fitting.p0_,\n",
    "                                            em_fitting.w_d_, lQ_array1[ind1,:], Qx_array1[ind1,:], \n",
    "                                            lQ_array2[ind2,:], Qx_array2[ind2,:],1,10)\n",
    "    #Find the minimal JSD and assign it to the current feature complexity \n",
    "    m1,m2=np.unravel_index(np.argmin(JS_cur, axis=None), JS_cur.shape)\n",
    "    min_inds1[i] = iteration_indeces[FC1_ind[m1]]\n",
    "    min_inds2[i] = iteration_indeces[FC2_ind[m2]]\n",
    "    JS[i] = np.min(JS_cur)\n",
    "   "
   ]
  },
  {
   "cell_type": "markdown",
   "id": "e4b35f67",
   "metadata": {},
   "source": [
    "## Step 3. Visualize the results.\n",
    "To visualise the results, we first choose a JS divergence threshold and find the index when JSD first exceeds this threshold. This index will correspond to a pair of model with optimal feature complexity that we select and compare against the ground-truth model. To illustrate the process of model selection, we also plot a pair of models at early feature complexity (FC_early) and late feature complexity (FC_late). As expected, at small feature complexity both potentials tightly overlap, but undefitted and do not overlap with the ground-truth. At large feature complexity the potentials are overfitted and contain the features not presented in the ground-truth model"
   ]
  },
  {
   "cell_type": "code",
   "execution_count": 4,
   "id": "18873d51",
   "metadata": {
    "scrolled": true
   },
   "outputs": [],
   "source": [
    "JS_thres=0.001\n",
    "#Index of the optimal models that corresponds to a maximum FC before exceeding the threshold\n",
    "optimal_ind=np.where(JS>JS_thres)[0][0]-1\n",
    "#Optimal FC\n",
    "FC_opt = FCs_array1[optimal_ind]\n",
    "#For illustration purposes, choose early and late FCs.\n",
    "FC_late=3.5\n",
    "late_ind = np.where(FCs_array1>FC_late)[0][0]\n",
    "FC_early=1.8\n",
    "early_ind = np.where(FCs_array1>FC_early)[0][0]\n",
    "\n",
    "#Create a ground-truth model, calculate its Feature Complexity.\n",
    "EnergyModelParams = {'pde_solve_param':{'method':{'name': 'SEM', 'gridsize': {'Np': 8, 'Ne': 16}}}, \n",
    "               'Nv': 111, \n",
    "               'peq_model':{\"model\": \"linear_pot\", \"params\": {\"slope\": -5}},\n",
    "               'p0_model': {'model': 'single_well', 'params': {'miu': 200, 'xmin': -0.3}},\n",
    "               'D0': 0.1,\n",
    "               'boundary_mode':'absorbing',\n",
    "               'num_neuron':1,\n",
    "               'firing_model':[{'model': 'linear','params': {'r_slope': 50, 'r_bias': 60}}],\n",
    "               'verbose':True\n",
    "               }\n",
    "em_gt = neuralflow.EnergyModel(**EnergyModelParams)\n",
    "FC_gt = FeatureComplexity(em_gt)\n",
    "\n",
    "#Visualization\n",
    "fig=plt.figure(figsize=(20,7));\n",
    "gs=gridspec.GridSpec(2,6,height_ratios=[3,2],hspace=0.5, wspace=0.5);\n",
    "line_colors = [[239/255, 48/255, 84/255], [0, 127/255, 1], [0.5, 0.5, 0.5]]\n",
    "dot_colors = [[0.6,0.6,0.6], [1, 169/255, 135/255],  [147/255, 192/255, 164/255]]\n",
    "\n",
    "ax = plt.subplot(gs[0,:3])\n",
    "ax.set_title('Feature complexity grows with iteration number',fontsize=18)\n",
    "ax.plot(data1['iter_num'][iteration_indeces],FCs_array1,color=line_colors[0],linewidth=3,label='Data sample 1')\n",
    "ax.plot(data2['iter_num'][iteration_indeces],FCs_array2,color=line_colors[1],linewidth=3,label='Data sample 2')\n",
    "ax.hlines(FC_gt,data1['iter_num'][iteration_indeces][0],data1['iter_num'][iteration_indeces][-1],color=line_colors[2],linewidth=2,label='Ground truth')\n",
    "plt.xscale('log')\n",
    "plt.xlabel('Iteration number', fontsize=14)\n",
    "plt.ylabel('Feature complexity', fontsize=14)\n",
    "\n",
    "ax=plt.subplot(gs[0,3:])\n",
    "ax.set_title('JS divergence as a function of feature complexity',fontsize=18)\n",
    "ax.plot(FCs_array1,JS, color = [0.47, 0.34, 0.66],linewidth=3)\n",
    "ax.plot(FC_early,JS[np.argmin(np.abs(FCs_array1-FC_early))],'.',markersize=20,color=dot_colors[0])\n",
    "ax.plot(FC_opt,JS[np.argmin(np.abs(FCs_array1-FC_opt))],'.',markersize=20,color=dot_colors[1])\n",
    "ax.plot(FC_late,JS[np.argmin(np.abs(FCs_array1-FC_late))],'.',markersize=20,color=dot_colors[2])\n",
    "ax.hlines(JS_thres,FCs_array1[0],FCs_array1[-1],linestyles='dashed',color=line_colors[2],linewidth=2,label='Ground truth')\n",
    "plt.xlabel('Feature complexity',fontsize=14)\n",
    "plt.ylabel('JS divergence', fontsize=14)\n",
    "\n",
    "\n",
    "ax=plt.subplot(gs[1,:2])\n",
    "ax.set_title(r'$\\mathcal{M}<\\mathcal{M}^*$', fontsize=18)\n",
    "ax.plot(em_gt.x_d_,-np.log(data1['peqs'][...,int(min_inds1[early_ind])]),color=line_colors[0],linewidth=3)\n",
    "ax.plot(em_gt.x_d_,-np.log(data2['peqs'][...,int(min_inds2[early_ind])]),color=line_colors[1],linewidth=3)\n",
    "ax.plot(em_gt.x_d_,-np.log(em_gt.peq_),color=[0.5, 0.5, 0.5],linewidth=2)\n",
    "plt.xlabel(r'Latent state, $x$', fontsize=14)\n",
    "plt.ylabel(r'Potential, $\\Phi(x)$', fontsize=14)\n",
    "\n",
    "ax=plt.subplot(gs[1,2:4])\n",
    "ax.set_title(r'$\\mathcal{M}=\\mathcal{M}^*$', fontsize=18)\n",
    "ax.plot(em_gt.x_d_,-np.log(data1['peqs'][...,int(min_inds1[optimal_ind])]),color=line_colors[0],linewidth=3)\n",
    "ax.plot(em_gt.x_d_,-np.log(data2['peqs'][...,int(min_inds2[optimal_ind])]),color=line_colors[1],linewidth=3)\n",
    "ax.plot(em_gt.x_d_,-np.log(em_gt.peq_),color=[0.5, 0.5, 0.5],linewidth=2)\n",
    "plt.xlabel('latent state, x', fontsize=14)\n",
    "plt.ylabel(r'Potential, $\\Phi(x)$', fontsize=14)\n",
    "\n",
    "ax=plt.subplot(gs[1,4:])\n",
    "ax.set_title(r'$\\mathcal{M}>\\mathcal{M}^*$', fontsize=18)\n",
    "ax.plot(em_gt.x_d_,-np.log(data1['peqs'][...,int(min_inds1[late_ind])]),color=line_colors[0],linewidth=3)\n",
    "ax.plot(em_gt.x_d_,-np.log(data2['peqs'][...,int(min_inds2[late_ind])]),color=line_colors[1],linewidth=3)\n",
    "ax.plot(em_gt.x_d_,-np.log(em_gt.peq_),color=[0.5, 0.5, 0.5],linewidth=2)\n",
    "plt.xlabel('latent state, x', fontsize=14)\n",
    "plt.ylabel(r'Potential, $\\Phi(x)$', fontsize=14)\n",
    "\n"
   ]
  },
  {
   "cell_type": "markdown",
   "id": "7feec558",
   "metadata": {},
   "source": [
    "The code above should produce the following image:\n",
    "![Jupyter notebook icon](images/Example3.png)"
   ]
  }
 ],
 "metadata": {
  "kernelspec": {
   "display_name": "Python 3 (ipykernel)",
   "language": "python",
   "name": "python3"
  },
  "language_info": {
   "codemirror_mode": {
    "name": "ipython",
    "version": 3
   },
   "file_extension": ".py",
   "mimetype": "text/x-python",
   "name": "python",
   "nbconvert_exporter": "python",
   "pygments_lexer": "ipython3",
   "version": "3.8.8"
  }
 },
 "nbformat": 4,
 "nbformat_minor": 5
}
