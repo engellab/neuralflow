{
 "cells": [
  {
   "cell_type": "markdown",
   "id": "1016821f",
   "metadata": {},
   "source": [
    "# Converting data into the interspike interval (ISI) format\n",
    "\n",
    "In order to use our package, the spike data has to be converted into the ISI format. In this format for each trial the data contains two 1D numpy arrays. The first array contains the ISIs of all of the neurons, starting from the time interval between the trial start and the first spike, and ending with the time interval between the last spike and the trial end. The second array contains the corresponding neuron indices (ids), which are integers that start from 0. End of trial is marked with -1.\n",
    "\n",
    "**ISI format**: the data is a numpy array of size `(num_trial,2)`, `dtype = np.ndarray`, where `data[i,0]` contains all of the ISIs for trial `i`, and `data[i,0]` contains the corresponding neuronal IDs.\n",
    "\n",
    "**Example of the ISI format**:  For example, consider the data with only one trial. The 1st neuron (id=0) spike times are `0.12, 0.15, 0.25`. The second neuron (id=1) spike times are `0.05, 0.2`. Trial 0 starts at `t=0`, and ends at `t=0.27`. \n",
    "\n",
    "In the ISI format, the first ISI is between the trial start time and the first spike, which is $0.05$, and the first spike was emitted by a neuron with `id=1`. The second ISI is between $t=0.05$ and $t=0.12$, and the second spike was emitted by a neuron with `id=0`. The last ISI is between the last spike `t=0.25` and the trial end time `t=0.27`, and it is marked with `-1`. The data in the ISI format will be an array of size `(1,2)`, where `data_ISI[0,0]=np.array([0.05,0.07,0.03,0.05,0.05,0.02])`, and `data_ISI[0,1]=np.array([1,0,0,1,0,-1])`. \n",
    "\n",
    "**In this task you will convert the data from the spike times format to the ISI format**. You will upload the data in the spike format: `spike_data` is a dictionary with two keys: `trial_end_time`, and `spikes`. The first key is a 1D array of length `num_trial` with the recorded trial end times (assume that all trials start from `t=0`), where `num_trial` is the number of trials. The second key is a numpy array of size `(num_neuron,num_trial)`, where each element is a 1D array of spike times for a neuron on a given trial.\n",
    "\n",
    "For the example above, the data in this format will be: `data_spikes=[{\"trial_end_time\": np.array([0.27]),\"spikes\": np.array([np.array([0.12, 0.15, 0.25]), np.array([0.05, 0.2])])`. "
   ]
  },
  {
   "cell_type": "code",
   "execution_count": 1,
   "id": "459066ad",
   "metadata": {
    "collapsed": true
   },
   "outputs": [
    {
     "name": "stdout",
     "output_type": "stream",
     "text": [
      "Collecting git+https://github.com/engellab/neuralflow\n",
      "  Cloning https://github.com/engellab/neuralflow to /private/var/folders/xt/nql8j4c959l6b4s54h4l91340000gn/T/pip-req-build-ud1_4e1v\n",
      "  Running command git clone -q https://github.com/engellab/neuralflow /private/var/folders/xt/nql8j4c959l6b4s54h4l91340000gn/T/pip-req-build-ud1_4e1v\n",
      "Requirement already satisfied: numpy in /Users/mikhailgenkin/opt/anaconda3/lib/python3.8/site-packages (from neuralflow==2.0.1) (1.20.3)\n",
      "Requirement already satisfied: matplotlib in /Users/mikhailgenkin/opt/anaconda3/lib/python3.8/site-packages (from neuralflow==2.0.1) (3.4.2)\n",
      "Requirement already satisfied: scipy in /Users/mikhailgenkin/opt/anaconda3/lib/python3.8/site-packages (from neuralflow==2.0.1) (1.6.2)\n",
      "Requirement already satisfied: tqdm in /Users/mikhailgenkin/opt/anaconda3/lib/python3.8/site-packages (from neuralflow==2.0.1) (4.62.1)\n",
      "Requirement already satisfied: sklearn in /Users/mikhailgenkin/opt/anaconda3/lib/python3.8/site-packages (from neuralflow==2.0.1) (0.0)\n",
      "Requirement already satisfied: python-dateutil>=2.7 in /Users/mikhailgenkin/opt/anaconda3/lib/python3.8/site-packages (from matplotlib->neuralflow==2.0.1) (2.8.2)\n",
      "Requirement already satisfied: kiwisolver>=1.0.1 in /Users/mikhailgenkin/opt/anaconda3/lib/python3.8/site-packages (from matplotlib->neuralflow==2.0.1) (1.3.1)\n",
      "Requirement already satisfied: pillow>=6.2.0 in /Users/mikhailgenkin/opt/anaconda3/lib/python3.8/site-packages (from matplotlib->neuralflow==2.0.1) (8.3.1)\n",
      "Requirement already satisfied: pyparsing>=2.2.1 in /Users/mikhailgenkin/opt/anaconda3/lib/python3.8/site-packages (from matplotlib->neuralflow==2.0.1) (2.4.7)\n",
      "Requirement already satisfied: cycler>=0.10 in /Users/mikhailgenkin/opt/anaconda3/lib/python3.8/site-packages (from matplotlib->neuralflow==2.0.1) (0.10.0)\n",
      "Requirement already satisfied: six in /Users/mikhailgenkin/opt/anaconda3/lib/python3.8/site-packages (from cycler>=0.10->matplotlib->neuralflow==2.0.1) (1.16.0)\n",
      "Requirement already satisfied: scikit-learn in /Users/mikhailgenkin/opt/anaconda3/lib/python3.8/site-packages (from sklearn->neuralflow==2.0.1) (0.24.2)\n",
      "Requirement already satisfied: joblib>=0.11 in /Users/mikhailgenkin/opt/anaconda3/lib/python3.8/site-packages (from scikit-learn->sklearn->neuralflow==2.0.1) (1.0.1)\n",
      "Requirement already satisfied: threadpoolctl>=2.0.0 in /Users/mikhailgenkin/opt/anaconda3/lib/python3.8/site-packages (from scikit-learn->sklearn->neuralflow==2.0.1) (2.2.0)\n",
      "Building wheels for collected packages: neuralflow\n",
      "  Building wheel for neuralflow (setup.py) ... \u001b[?25ldone\n",
      "\u001b[?25h  Created wheel for neuralflow: filename=neuralflow-2.0.1-cp38-cp38-macosx_10_9_x86_64.whl size=113033 sha256=933fa431cbb6d38ccf8385cae21ebf6075e0cf8acc2dc481d379aa17e328da26\n",
      "  Stored in directory: /private/var/folders/xt/nql8j4c959l6b4s54h4l91340000gn/T/pip-ephem-wheel-cache-7o0cjw2f/wheels/ed/ef/2f/a174789969deebfdb593975a885eafc637a5af35a925ac34ff\n",
      "Successfully built neuralflow\n",
      "Installing collected packages: neuralflow\n",
      "  Attempting uninstall: neuralflow\n",
      "    Found existing installation: neuralflow 2.0.1\n",
      "    Uninstalling neuralflow-2.0.1:\n",
      "      Successfully uninstalled neuralflow-2.0.1\n",
      "Successfully installed neuralflow-2.0.1\n",
      "mkdir: data: File exists\n"
     ]
    },
    {
     "data": {
      "text/plain": [
       "('data/Ex1.pkl', <http.client.HTTPMessage at 0x110c2f640>)"
      ]
     },
     "execution_count": 1,
     "metadata": {},
     "output_type": "execute_result"
    }
   ],
   "source": [
    "# Package installation - needed to run in google Collab. Skip this cell if you use local jupyter notebook\n",
    "!pip install git+https://github.com/engellab/neuralflow\n",
    "\n",
    "#Make data folder and download the data in spike times format.\n",
    "!mkdir data\n",
    "import urllib.request\n",
    "urllib.request.urlretrieve('https://github.com/engellab/neuralflow/raw/master/tutorials/CCN2021/data/Part1_spike_times_data.pkl', \"data/Part1_spike_times_data.pkl\")"
   ]
  },
  {
   "cell_type": "code",
   "execution_count": 1,
   "id": "a066e1b2",
   "metadata": {},
   "outputs": [],
   "source": [
    "# Import packages \n",
    "import neuralflow\n",
    "import numpy as np\n",
    "import matplotlib.pyplot as plt, matplotlib.gridspec as gridspec\n",
    "import scipy\n",
    "import pickle"
   ]
  },
  {
   "cell_type": "code",
   "execution_count": 2,
   "id": "1a151c89",
   "metadata": {},
   "outputs": [
    {
     "name": "stdout",
     "output_type": "stream",
     "text": [
      "Spike data contains 3 neurons and 5 trials.\n",
      "Trial 3 starts at t=0, and ends at t=0.1278\n",
      "At trial 3, the spike times of a neuron with id=0 are: [0.00202557 0.01655405 0.0216746  0.02636602 0.0494601  0.06425032\n",
      " 0.0672514  0.07441427 0.091588   0.09882371 0.09994917 0.10403823\n",
      " 0.10716863 0.11026739 0.12120375 0.12156251]\n",
      "At trial 3, the spike times of a neuron with id=1 are: None\n"
     ]
    }
   ],
   "source": [
    "# Cell 1 - Load the data in the spike format and print it\n",
    "\n",
    "with open(\"data/Part1_spike_times_data.pkl\",\"rb\") as fp:\n",
    "    spike_data = pickle.load(fp)\n",
    "\n",
    "# Extract the spike times and trial end times\n",
    "spike_times = spike_data['spikes']\n",
    "trial_ends = spike_data['trial_end_time']\n",
    "    \n",
    "print(f'Spike data contains {spike_times.shape[0]} neurons and {spike_times.shape[1]} trials.')\n",
    "print(f'Trial 3 starts at t=0, and ends at t={trial_ends[3]}')\n",
    "print(f'At trial 3, the spike times of a neuron with id=0 are: {spike_times[0,3]}') \n",
    "      \n",
    "######INSERT YOUR CODE HERE############\n",
    "print(f'At trial 3, the spike times of a neuron with id=1 are: {None}')     \n",
    "#######################################"
   ]
  },
  {
   "cell_type": "markdown",
   "id": "a8626a39",
   "metadata": {},
   "source": [
    "Our `EnergyModel` class offers a method that converts the spike data into the ISI format. \n",
    "\n",
    "`data = EnergyModel.transform_spikes_to_isi(spikes, time_epoch, **kwargs)`\n",
    "\n",
    "Here the inputs are: \n",
    "\n",
    "`spikes: a 2D array with all of the spike times, the shape is (num_neuron,num_trial), and each element is a 1D array of spike times.`\n",
    "    \n",
    "`time_epoch`: list of tuples, one for each trial. Each tuple consists of two elements: trial start time and trial end time.\n",
    "    \n",
    "The output is the data in the ISI format. See the additional optional parameters in the doc string of this function.\n",
    "\n",
    "\n",
    "\n"
   ]
  },
  {
   "cell_type": "code",
   "execution_count": 3,
   "id": "39c382f9",
   "metadata": {
    "collapsed": true
   },
   "outputs": [
    {
     "name": "stdout",
     "output_type": "stream",
     "text": [
      "The ISI data contains 5 trials.\n",
      "At trial 3, the ISIs from all of the neurons are [0.00202557 0.01181484 0.00271364 0.00512054 0.00469143 0.02309408\n",
      " 0.01479022 0.00300108 0.0010751  0.00213459 0.00395319 0.01287632\n",
      " 0.00429741 0.0003679  0.00482648 0.00204132 0.00112546 0.00408906\n",
      " 0.0031304  0.00309876 0.01093637 0.00035876 0.00219539 0.0040421 ]\n",
      "At trial 3, the corresponding neuron ids are [ 0  1  0  0  0  0  0  0  1  1  0  1  0  1  1  0  0  0  0  0  0  0  1 -1]\n",
      "At trial 3, the sorted spike times of all neurons are: None\n"
     ]
    }
   ],
   "source": [
    "# Cell 2 - Convert the spike data into the ISI format. \n",
    "\n",
    "# Initialize an instance of the EnergyModel class\n",
    "em = neuralflow.EnergyModel()\n",
    "\n",
    "# Create the time_epoch list\n",
    "time_epoch = [(0,trial_end) for trial_end in trial_ends]\n",
    "\n",
    "# Convert the data into the ISI format\n",
    "data_ISI=em.transform_spikes_to_isi(spike_times, time_epoch)\n",
    "\n",
    "# Let us print the data in the ISI format\n",
    "print(f'The ISI data contains {data_ISI.shape[0]} trials.')\n",
    "print(f'At trial 3, the ISIs from all of the neurons are {data_ISI[3,0]}')\n",
    "print(f'At trial 3, the corresponding neuron ids are {data_ISI[3,1]}')\n",
    "\n",
    "# We can calculate the sorted spike times of all neurons at a particular trial using np.cumsum function.\n",
    "\n",
    "######INSERT YOUR CODE HERE############\n",
    "print(f'At trial 3, the sorted spike times of all neurons are: {None}') \n",
    "#######################################"
   ]
  }
 ],
 "metadata": {
  "kernelspec": {
   "display_name": "Python 3 (ipykernel)",
   "language": "python",
   "name": "python3"
  },
  "language_info": {
   "codemirror_mode": {
    "name": "ipython",
    "version": 3
   },
   "file_extension": ".py",
   "mimetype": "text/x-python",
   "name": "python",
   "nbconvert_exporter": "python",
   "pygments_lexer": "ipython3",
   "version": "3.8.8"
  }
 },
 "nbformat": 4,
 "nbformat_minor": 5
}
